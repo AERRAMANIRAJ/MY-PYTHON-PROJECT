{
 "cells": [
  {
   "cell_type": "code",
   "execution_count": 1,
   "id": "9931f18c",
   "metadata": {},
   "outputs": [],
   "source": [
    "from tkinter import *\n",
    "\n",
    "top= Tk()\n",
    "#Write the code to add widgets over here\n",
    "top.mainloop()"
   ]
  },
  {
   "cell_type": "code",
   "execution_count": 1,
   "id": "dd9a35ba",
   "metadata": {},
   "outputs": [
    {
     "ename": "FileNotFoundError",
     "evalue": "[Errno 2] No such file or directory: 'C:\\\\Users\\\\Lenovo\\\\Pictures\\\\Screenshots\\\\botdetect3-captcha-ancientmosaic.jpg'",
     "output_type": "error",
     "traceback": [
      "\u001b[1;31m---------------------------------------------------------------------------\u001b[0m",
      "\u001b[1;31mFileNotFoundError\u001b[0m                         Traceback (most recent call last)",
      "\u001b[1;32m<ipython-input-1-f5a9d5cffaaa>\u001b[0m in \u001b[0;36m<module>\u001b[1;34m\u001b[0m\n\u001b[0;32m     13\u001b[0m \u001b[0mregNo\u001b[0m    \u001b[1;33m=\u001b[0m \u001b[0mStringVar\u001b[0m\u001b[1;33m(\u001b[0m\u001b[1;33m)\u001b[0m\u001b[1;33m\u001b[0m\u001b[1;33m\u001b[0m\u001b[0m\n\u001b[0;32m     14\u001b[0m \u001b[1;31m# image list\u001b[0m\u001b[1;33m\u001b[0m\u001b[1;33m\u001b[0m\u001b[1;33m\u001b[0m\u001b[0m\n\u001b[1;32m---> 15\u001b[1;33m \u001b[0mmy_img1\u001b[0m  \u001b[1;33m=\u001b[0m \u001b[0mImageTk\u001b[0m\u001b[1;33m.\u001b[0m\u001b[0mPhotoImage\u001b[0m\u001b[1;33m(\u001b[0m\u001b[0mImage\u001b[0m\u001b[1;33m.\u001b[0m\u001b[0mopen\u001b[0m\u001b[1;33m(\u001b[0m\u001b[1;34m\"C:\\\\Users\\\\Lenovo\\\\Pictures\\\\Screenshots\\\\botdetect3-captcha-ancientmosaic.jpg\"\u001b[0m\u001b[1;33m)\u001b[0m\u001b[1;33m)\u001b[0m\u001b[1;33m\u001b[0m\u001b[1;33m\u001b[0m\u001b[0m\n\u001b[0m\u001b[0;32m     16\u001b[0m \u001b[0mmy_img2\u001b[0m  \u001b[1;33m=\u001b[0m \u001b[0mImageTk\u001b[0m\u001b[1;33m.\u001b[0m\u001b[0mPhotoImage\u001b[0m\u001b[1;33m(\u001b[0m\u001b[0mImage\u001b[0m\u001b[1;33m.\u001b[0m\u001b[0mopen\u001b[0m\u001b[1;33m(\u001b[0m\u001b[1;34m\"C:\\\\Users\\\\Lenovo\\\\Pictures\\\\Screenshots\\\\botdetect3-captcha-blackoverlap.jpg\"\u001b[0m\u001b[1;33m)\u001b[0m\u001b[1;33m)\u001b[0m\u001b[1;33m\u001b[0m\u001b[1;33m\u001b[0m\u001b[0m\n\u001b[0;32m     17\u001b[0m \u001b[0mmy_img3\u001b[0m  \u001b[1;33m=\u001b[0m \u001b[0mImageTk\u001b[0m\u001b[1;33m.\u001b[0m\u001b[0mPhotoImage\u001b[0m\u001b[1;33m(\u001b[0m\u001b[0mImage\u001b[0m\u001b[1;33m.\u001b[0m\u001b[0mopen\u001b[0m\u001b[1;33m(\u001b[0m\u001b[1;34m\"C:\\\\Users\\\\Lenovo\\\\Pictures\\\\Screenshots\\\\botdetect3-captcha-bubbles.jpg\"\u001b[0m\u001b[1;33m)\u001b[0m\u001b[1;33m)\u001b[0m\u001b[1;33m\u001b[0m\u001b[1;33m\u001b[0m\u001b[0m\n",
      "\u001b[1;32m~\\anaconda3\\lib\\site-packages\\PIL\\Image.py\u001b[0m in \u001b[0;36mopen\u001b[1;34m(fp, mode, formats)\u001b[0m\n\u001b[0;32m   2910\u001b[0m \u001b[1;33m\u001b[0m\u001b[0m\n\u001b[0;32m   2911\u001b[0m     \u001b[1;32mif\u001b[0m \u001b[0mfilename\u001b[0m\u001b[1;33m:\u001b[0m\u001b[1;33m\u001b[0m\u001b[1;33m\u001b[0m\u001b[0m\n\u001b[1;32m-> 2912\u001b[1;33m         \u001b[0mfp\u001b[0m \u001b[1;33m=\u001b[0m \u001b[0mbuiltins\u001b[0m\u001b[1;33m.\u001b[0m\u001b[0mopen\u001b[0m\u001b[1;33m(\u001b[0m\u001b[0mfilename\u001b[0m\u001b[1;33m,\u001b[0m \u001b[1;34m\"rb\"\u001b[0m\u001b[1;33m)\u001b[0m\u001b[1;33m\u001b[0m\u001b[1;33m\u001b[0m\u001b[0m\n\u001b[0m\u001b[0;32m   2913\u001b[0m         \u001b[0mexclusive_fp\u001b[0m \u001b[1;33m=\u001b[0m \u001b[1;32mTrue\u001b[0m\u001b[1;33m\u001b[0m\u001b[1;33m\u001b[0m\u001b[0m\n\u001b[0;32m   2914\u001b[0m \u001b[1;33m\u001b[0m\u001b[0m\n",
      "\u001b[1;31mFileNotFoundError\u001b[0m: [Errno 2] No such file or directory: 'C:\\\\Users\\\\Lenovo\\\\Pictures\\\\Screenshots\\\\botdetect3-captcha-ancientmosaic.jpg'"
     ]
    }
   ],
   "source": [
    "from tkinter import *\n",
    "from PIL import ImageTk, Image \n",
    "from tkinter import messagebox \n",
    "from tkinter.font import Font\n",
    "\n",
    "root = Tk() \n",
    "root.title(\"PASSWORD MANAGER\") \n",
    "root.configure(background = \"#a7d9c5\")\n",
    "\n",
    "root.geometry(\"600x500\")\n",
    "\n",
    "password = StringVar() \n",
    "regNo    = StringVar() \n",
    "# image list\n",
    "my_img1  = ImageTk.PhotoImage(Image.open(\"C:\\\\Users\\\\Lenovo\\\\Pictures\\\\Screenshots\\\\botdetect3-captcha-ancientmosaic.jpg\")) \n",
    "my_img2  = ImageTk.PhotoImage(Image.open(\"C:\\\\Users\\\\Lenovo\\\\Pictures\\\\Screenshots\\\\botdetect3-captcha-blackoverlap.jpg\")) \n",
    "my_img3  = ImageTk.PhotoImage(Image.open(\"C:\\\\Users\\\\Lenovo\\\\Pictures\\\\Screenshots\\\\botdetect3-captcha-bubbles.jpg\")) \n",
    "my_img4  = ImageTk.PhotoImage(Image.open(\"C:\\\\Users\\\\Lenovo\\\\Pictures\\\\Screenshots\\\\botdetect3-captcha-bullets.jpg\")) \n",
    "my_img5  = ImageTk.PhotoImage(Image.open(\"C:\\\\Users\\\\Lenovo\\\\Pictures\\\\Screenshots\\\\botdetect3-captcha-bullets2.jpg\"))\n",
    "my_img6  = ImageTk.PhotoImage(Image.open(\"C:\\\\Users\\\\Lenovo\\\\Pictures\\\\Screenshots\\\\botdetect3-captcha-caughtinthenet.jpg\")) \n",
    "my_img7  = ImageTk.PhotoImage(Image.open(\"C:\\\\Users\\\\Lenovo\\\\Pictures\\\\Screenshots\\\\botdetect3-captcha-meltingheat.jpg\"))\n",
    "my_img8  = ImageTk.PhotoImage(Image.open(\"C:\\\\Users\\\\Lenovo\\\\Pictures\\\\Screenshots\\\\botdetect3-captcha-negative.jpg\"))\n",
    "my_img9  = ImageTk.PhotoImage(Image.open(\"C:\\\\Users\\\\Lenovo\\\\Pictures\\\\Screenshots\\\\botdetect3-captcha-neon.jpg\")) \n",
    "\n",
    "image_list =  [my_img1 , my_img2, my_img3, my_img4, my_img5, my_img6, my_img7 ,my_img8, my_img9]\n",
    "imglabel   =   Label(image=my_img1)\n",
    "\n",
    "# fonts\n",
    "\n",
    "mssglabfont = Font(family ='Bodoni MT' ,size=25 ) \n",
    "cappyfont  = Font(family ='Rockwell' ,size = 12) \n",
    "entryfont  = Font(family = \"Arial\" ,size = 10 ) \n",
    "buttonfont = Font(family = \"Rockwell\", size = 12) \n",
    "\n",
    "def clear():\n",
    "    regNo.set(\"\") \n",
    "    password.set(\"\") \n",
    "    capClear.set(\"\")\n",
    "\n",
    "def fun():\n",
    "     messagebox.showinfo(\"saved\", \"Sign In sucessfully\")\n",
    "\n",
    "#logic for forward\n",
    "def forward(image_number):      \n",
    "    global imglabel\n",
    "    global refreshb\n",
    "\n",
    "    imglabel.grid_forget() \n",
    "    imglabel = Label(image = image_list[image_number-1])\n",
    "    refreshb = Button(root,text =\"Refresh\" ,image = photo , border=4,height=15,width=15,\n",
    "                                                                      command= lambda: forward(image_number+1),bg='#e0e5ef')        \n",
    "                                                                     \n",
    "    imglabel.place(x=280,y=220)\n",
    "    refreshb.place(x=550,y=220)\n",
    "\n",
    "img = ImageTk.PhotoImage(Image.open(\"C:\\\\Users\\\\Lenovo\\\\Pictures\\\\Screenshots\\\\botdetect3-captcha-ancientmosaic.jpg\")) \n",
    "regNo = StringVar() \n",
    "password = StringVar() \n",
    "capclear = StringVar()\n",
    "\n",
    "imglabel.place(x=280, y=220) \n",
    "photo = PhotoImage(file=\"C:\\\\Users\\\\Lenovo\\\\Pictures\\\\Screenshots\\\\refresh-page-option.png\")\n",
    "\n",
    "# imglabel.place(x=280, y=220)\n",
    "\n",
    "\n",
    "\n",
    "nreg = Label(root, text = \"Reg No. \", bg=\"#a7d9c5\" , font = cappyfont).place(x =170, y =100) \n",
    "npwd = Label(root , text = \"Password \", bg=\"#a7d9c5\", font = cappyfont).place(x = 170 ,y = 150) \n",
    "txx = Label(root , text = \"Type the code you see above *\", font = \"none 10 bold italic \", bg=\"#a7d9c5\",\n",
    "\n",
    "                                                                                          fg = '#e03267').place(x = 280 , y =280)\n",
    "\n",
    "cappy = Label(root , text = \"Captcha \", bg=\"#a7d9c5\", font = cappyfont).place(x = 170, y = 220) \n",
    "mssg = Label(root , text = \"Welcome to Python Class \", bg=\"#a7d9c5\", font = mssglabfont, fg = '#162e61' ).place(x=150,y=10)\n",
    "\n",
    "\n",
    "regEne1 = Entry(root, textvariable= regNo ,font = entryfont).place(x = 280, y = 100,width = 200 , height = 25) \n",
    "captchaEnte2 = Entry(root, textvariable= capclear, font = entryfont).place(x = 280, y = 320,width = 200 , height = 25) \n",
    "passwode3 = Entry(root, width = 25, textvariable= password, show='*',font= entryfont).place(x=280,y=150,width=200,\n",
    "                                                                                                                height=25)\n",
    "\n",
    "sbmitbtn=Button(root, text=\"Sign In\", command=fun, bg='#b6aed9', width=7, height= 1, font=buttonfont, border=3).place(x=280,y=380)\n",
    "refreshb=Button(root, image= photo, border =2, height =15, width =15, command=lambda :forward(2), bg='#e0e5ef').place(x=550, y =220) \n",
    "cirbutton=Button(root, text=\"clear\", command=clear, width=7, height =1, font=buttonfont, border =4,bg='#b6aed9').place(x =380, y =378)\n",
    "\n",
    "root.mainloop()\n",
    "\n",
    "from captcha.image import ImageCaptcha \n",
    "import random \n",
    "import string\n",
    "\n",
    "def recapp():\n",
    "\n",
    "    letters = string.ascii_lowercase + string.digits + string.ascii_uppercase \n",
    "    result_str = ' '.join(random.choice(letters) for i in range(9)) \n",
    "    image = ImageCaptcha(width = 250 , height = 100) \n",
    "    text = random\n",
    "\n",
    "    image = image.create_captcha_image(\"{}\".format(result_str), color=\"White\" , background=\"black\")\n",
    "    \n",
    "    \n",
    "    # image.show()\n",
    "    return image.save(\"gen1.jpg\" )"
   ]
  },
  {
   "cell_type": "code",
   "execution_count": 9,
   "id": "6bbdc678",
   "metadata": {},
   "outputs": [
    {
     "name": "stdout",
     "output_type": "stream",
     "text": [
      "CMySQLCursor: (Nothing executed yet)\n"
     ]
    }
   ],
   "source": [
    "import mysql.connector\n",
    "\n",
    "conn=mysql.connector.connect(host=\"localhost\",user=\"root\",passwd=\"Kashisaritha@123\")\n",
    "c=conn.cursor()  \n",
    "c.execute('')\n",
    "print(c)"
   ]
  },
  {
   "cell_type": "code",
   "execution_count": null,
   "id": "8a858a30",
   "metadata": {},
   "outputs": [],
   "source": []
  }
 ],
 "metadata": {
  "kernelspec": {
   "display_name": "Python 3",
   "language": "python",
   "name": "python3"
  },
  "language_info": {
   "codemirror_mode": {
    "name": "ipython",
    "version": 3
   },
   "file_extension": ".py",
   "mimetype": "text/x-python",
   "name": "python",
   "nbconvert_exporter": "python",
   "pygments_lexer": "ipython3",
   "version": "3.8.8"
  }
 },
 "nbformat": 4,
 "nbformat_minor": 5
}
